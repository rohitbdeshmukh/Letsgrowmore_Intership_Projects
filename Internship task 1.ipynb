{
 "cells": [
  {
   "cell_type": "code",
   "execution_count": 1,
   "metadata": {},
   "outputs": [],
   "source": [
    "#Lets Grow More\n",
    "#Rohit Deshmukh\n",
    "#First Internship Task\n",
    "#Name of the task : Convert an image to a pencil sketch by using python\n"
   ]
  },
  {
   "cell_type": "code",
   "execution_count": 2,
   "metadata": {},
   "outputs": [
    {
     "data": {
      "text/plain": [
       "-1"
      ]
     },
     "execution_count": 2,
     "metadata": {},
     "output_type": "execute_result"
    }
   ],
   "source": [
    "#Convert an image to a pencil sketch\n",
    "\n",
    "#Import the Library\n",
    "import cv2\n",
    "\n",
    "#Get the image location and image file name\n",
    "image_location = \"C:/Users/Subhash/Documents/\"\n",
    "\n",
    "filename = 'sample1.jpg'\n",
    "\n",
    "#Read the image\n",
    "image = cv2.imread(image_location+filename)\n",
    "\n",
    "\n",
    "\n",
    "\n",
    "#Show the image\n",
    "cv2.imshow('Original Image',image)\n",
    "cv2.waitKey(0)"
   ]
  },
  {
   "cell_type": "code",
   "execution_count": 3,
   "metadata": {},
   "outputs": [
    {
     "data": {
      "text/plain": [
       "-1"
      ]
     },
     "execution_count": 3,
     "metadata": {},
     "output_type": "execute_result"
    }
   ],
   "source": [
    "#Convert an image to a pencil sketch\n",
    "\n",
    "#Import the Library\n",
    "import cv2\n",
    "\n",
    "#Get the image location and image file name\n",
    "image_location = \"C:/Users/Subhash/Documents/\"\n",
    "\n",
    "filename = 'sample1.jpg'\n",
    "\n",
    "#Read the image\n",
    "image = cv2.imread(image_location+filename)\n",
    "\n",
    "#convert the image to gray scale\n",
    "gray_image = cv2.cvtColor(image, cv2.COLOR_BGR2GRAY)\n",
    "\n",
    "#Show the image\n",
    "cv2.imshow('Original Image',image)\n",
    "cv2.imshow('NEW Image',gray_image)\n",
    "cv2.waitKey(0)"
   ]
  },
  {
   "cell_type": "code",
   "execution_count": 4,
   "metadata": {},
   "outputs": [
    {
     "data": {
      "text/plain": [
       "-1"
      ]
     },
     "execution_count": 4,
     "metadata": {},
     "output_type": "execute_result"
    }
   ],
   "source": [
    "#Convert an image to a pencil sketch\n",
    "\n",
    "#Import the Library\n",
    "import cv2\n",
    "\n",
    "#Get the image location and image file name\n",
    "image_location = \"C:/Users/Subhash/Documents/\"\n",
    "\n",
    "filename = 'sample1.jpg'\n",
    "\n",
    "#Read the image\n",
    "image = cv2.imread(image_location+filename)\n",
    "\n",
    "#convert the image to gray scale\n",
    "gray_image = cv2.cvtColor(image, cv2.COLOR_BGR2GRAY)\n",
    "\n",
    "#Invert the image\n",
    "inverted_gray_image = 255 - gray_image\n",
    "\n",
    "\n",
    "\n",
    "#Show the image\n",
    "cv2.imshow('Original Image',image)\n",
    "cv2.imshow('NEW Image',inverted_gray_image)\n",
    "cv2.waitKey(0)\n"
   ]
  },
  {
   "cell_type": "code",
   "execution_count": 5,
   "metadata": {},
   "outputs": [
    {
     "data": {
      "text/plain": [
       "-1"
      ]
     },
     "execution_count": 5,
     "metadata": {},
     "output_type": "execute_result"
    }
   ],
   "source": [
    "#Convert an image to a pencil sketch\n",
    "\n",
    "#Import the Library\n",
    "import cv2\n",
    "\n",
    "#Get the image location and image file name\n",
    "image_location = \"C:/Users/Subhash/Documents/\"\n",
    "\n",
    "filename = 'sample1.jpg'\n",
    "\n",
    "#Read the image\n",
    "image = cv2.imread(image_location+filename)\n",
    "\n",
    "#convert the image to gray scale\n",
    "gray_image = cv2.cvtColor(image, cv2.COLOR_BGR2GRAY)\n",
    "\n",
    "#Invert the image\n",
    "inverted_gray_image = 255 - gray_image\n",
    "\n",
    "#Blur the image by gaussian function\n",
    "blurred_image =cv2.GaussianBlur(inverted_gray_image, (21,21), 0)\n",
    "\n",
    "\n",
    "\n",
    "#Show the image\n",
    "cv2.imshow('Original Image',image)\n",
    "cv2.imshow('NEW Image',blurred_image)\n",
    "cv2.waitKey(0)\n"
   ]
  },
  {
   "cell_type": "code",
   "execution_count": 6,
   "metadata": {},
   "outputs": [
    {
     "data": {
      "text/plain": [
       "-1"
      ]
     },
     "execution_count": 6,
     "metadata": {},
     "output_type": "execute_result"
    }
   ],
   "source": [
    "#Convert an image to a pencil sketch\n",
    "\n",
    "#Import the Library\n",
    "import cv2\n",
    "\n",
    "#Get the image location and image file name\n",
    "image_location = \"C:/Users/Subhash/Documents/\"\n",
    "\n",
    "filename = 'sample1.jpg'\n",
    "\n",
    "#Read the image\n",
    "image = cv2.imread(image_location+filename)\n",
    "\n",
    "#convert the image to gray scale\n",
    "gray_image = cv2.cvtColor(image, cv2.COLOR_BGR2GRAY)\n",
    "\n",
    "#Invert the image\n",
    "inverted_gray_image = 255 - gray_image\n",
    "\n",
    "#Blur the image by gaussian function\n",
    "blurred_image =cv2.GaussianBlur(inverted_gray_image, (21,21), 0)\n",
    "\n",
    "#Invert the blurred image\n",
    "inverted_blurred_image = 255 - blurred_image\n",
    "\n",
    "\n",
    "\n",
    "#Show the image\n",
    "cv2.imshow('Original Image',image)\n",
    "cv2.imshow('NEW Image',inverted_blurred_image)\n",
    "cv2.waitKey(0)\n"
   ]
  },
  {
   "cell_type": "code",
   "execution_count": 7,
   "metadata": {},
   "outputs": [
    {
     "data": {
      "text/plain": [
       "-1"
      ]
     },
     "execution_count": 7,
     "metadata": {},
     "output_type": "execute_result"
    }
   ],
   "source": [
    "#Convert an image to a pencil sketch\n",
    "\n",
    "#Import the Library\n",
    "import cv2\n",
    "\n",
    "#Get the image location and image file name\n",
    "image_location = \"C:/Users/Subhash/Documents/\"\n",
    "\n",
    "filename = 'sample1.jpg'\n",
    "\n",
    "#Read the image\n",
    "image = cv2.imread(image_location+filename)\n",
    "\n",
    "#convert the image to gray scale\n",
    "gray_image = cv2.cvtColor(image, cv2.COLOR_BGR2GRAY)\n",
    "\n",
    "#Invert the image\n",
    "inverted_gray_image = 255 - gray_image\n",
    "\n",
    "#Blur the image by gaussian function\n",
    "blurred_image =cv2.GaussianBlur(inverted_gray_image, (21,21), 0)\n",
    "\n",
    "#Invert the blurred image\n",
    "inverted_blurred_image = 255 - blurred_image\n",
    "\n",
    "#Create the pencil sketch image\n",
    "pencil_sketch_image = cv2.divide(gray_image, inverted_blurred_image, scale=256.0)\n",
    "\n",
    "\n",
    "#Show the image\n",
    "cv2.imshow('Original Image',image)\n",
    "cv2.imshow('NEW Image',pencil_sketch_image)\n",
    "cv2.waitKey(0)\n"
   ]
  },
  {
   "cell_type": "code",
   "execution_count": null,
   "metadata": {},
   "outputs": [],
   "source": []
  }
 ],
 "metadata": {
  "kernelspec": {
   "display_name": "Python 3",
   "language": "python",
   "name": "python3"
  },
  "language_info": {
   "codemirror_mode": {
    "name": "ipython",
    "version": 3
   },
   "file_extension": ".py",
   "mimetype": "text/x-python",
   "name": "python",
   "nbconvert_exporter": "python",
   "pygments_lexer": "ipython3",
   "version": "3.10.4"
  }
 },
 "nbformat": 4,
 "nbformat_minor": 4
}
